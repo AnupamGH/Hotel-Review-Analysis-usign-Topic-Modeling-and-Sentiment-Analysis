{
 "cells": [
  {
   "cell_type": "markdown",
   "metadata": {},
   "source": [
    "# Case Study - Topic Modeling and Sentiment Analysis\n",
    "\n",
    "**Problem Statement** - Analyze the daily customer reviews of a leading Hotel Chain to identify what customers like or dislike about the hotel and scope of improvement\n",
    "\n",
    "**Steps to topic mapping and sentiment analysis**\n",
    "\n",
    "1. Identify Topics and Sub Topics\n",
    "2. Build Taxonomy\n",
    "3. Map customer reviews to topics\n",
    "4. Map customer reviews to sentiment"
   ]
  },
  {
   "cell_type": "markdown",
   "metadata": {},
   "source": [
    "### **Step 1: Identify Topics**\n",
    "\n",
    "The first step is to identify the different topics in the reviews. We will use Term Frequency and Inverse Document Frequency to identify the topics in the reviews. For example, the topics in the Tourist Hotel example could be Room booking, Room Price, Room Cleanliness, Staff Courtesy, Staff Availability etc.\n",
    "\n",
    "### **Step 2 : Build Taxonomy**\n",
    "\n",
    "##### **I. Build Topic Hierarchy**\n",
    "A Taxonomy can be considered as a network of topics, sub topics and key words."
   ]
  },
  {
   "cell_type": "code",
   "execution_count": 313,
   "metadata": {},
   "outputs": [
    {
     "data": {
      "image/png": "[encoded data removed]",
      "text/plain": [
       "<IPython.core.display.Image object>"
      ]
     },
     "execution_count": 313,
     "metadata": {
      "image/png": {
       "height": 1000,
       "width": 1000
      }
     },
     "output_type": "execute_result"
    }
   ],
   "source": [
    "from IPython.display import Image\n",
    "Image(filename = \"../images/pic2.png\", width = 1000, height = 1000)"
   ]
  },
  {
   "cell_type": "markdown",
   "metadata": {},
   "source": [
    "**II. Build Keywords** \n",
    "\n",
    "The taxonomy is built in a CSV file format. There are 3 levels of key words for each sub topic namely, Primary key words, Additional key words and Exclude key words. The keywords for the topics need to be manually identified and added to the taxonomy file. The TfIDf, Bigram frequencies and LDA methodologies can help in identifying the right set of keywords.Below is a suggested approach - "
   ]
  },
  {
   "cell_type": "markdown",
   "metadata": {},
   "source": [
    "**Primary key words** are the key words that are mostly specific to the topic. These key words need to be mutually exclusive across different topics as far as possible. \n",
    "\n",
    "**Additional key words** are specific to the sub topic. These key words need not be mutually exclusive between the topics but it is advised to maintain exclusivity between sub topics under the same sub topic. To explain further, let us say, there is a sub topic “Price” under the topics “Room” as well as “Food”, then the additional key words will have an overlap. This will not create any issue as the primary key words are mutually exclusive. \n",
    "\n",
    "**Exclude key words** are key words that are used relatively less than the other two types. If there are two sub topics that have some overlap of additional words OR for example, if the sub topic “booking” is incorrectly mapping comments regarding taxi bookings as room booking, such key words could be used in exclude words to solve the problem.\n",
    "\n"
   ]
  },
  {
   "cell_type": "markdown",
   "metadata": {},
   "source": [
    "### **Exploratory Data Analysis**  \n",
    "\n"
   ]
  },
  {
   "cell_type": "code",
   "execution_count": 314,
   "metadata": {},
   "outputs": [],
   "source": [
    "import pandas as pd\n",
    "import numpy as np\n",
    "import re\n",
    "import string\n",
    "import nltk\n",
    "from nltk.tokenize import word_tokenize\n",
    "from nltk.sentiment.vader import SentimentIntensityAnalyzer"
   ]
  },
  {
   "cell_type": "code",
   "execution_count": 315,
   "metadata": {},
   "outputs": [],
   "source": [
    "#import customer review file and taxonomy\n",
    "reviews = pd.read_csv(\"../data/customer_reviews.csv\");\n",
    "reviews_tx = pd.read_csv(\"../data/taxonomy.csv\");"
   ]
  },
  {
   "cell_type": "code",
   "execution_count": 316,
   "metadata": {},
   "outputs": [
    {
     "data": {
      "text/html": [
       "<div>\n",
       "<style scoped>\n",
       "    .dataframe tbody tr th:only-of-type {\n",
       "        vertical-align: middle;\n",
       "    }\n",
       "\n",
       "    .dataframe tbody tr th {\n",
       "        vertical-align: top;\n",
       "    }\n",
       "\n",
       "    .dataframe thead th {\n",
       "        text-align: right;\n",
       "    }\n",
       "</style>\n",
       "<table border=\"1\" class=\"dataframe\">\n",
       "  <thead>\n",
       "    <tr style=\"text-align: right;\">\n",
       "      <th></th>\n",
       "      <th>slno</th>\n",
       "      <th>text</th>\n",
       "    </tr>\n",
       "  </thead>\n",
       "  <tbody>\n",
       "    <tr>\n",
       "      <th>0</th>\n",
       "      <td>1</td>\n",
       "      <td>a fun adventure. Perfect facilities available...</td>\n",
       "    </tr>\n",
       "    <tr>\n",
       "      <th>1</th>\n",
       "      <td>2</td>\n",
       "      <td>As an extended family  we went for a two nigh...</td>\n",
       "    </tr>\n",
       "    <tr>\n",
       "      <th>2</th>\n",
       "      <td>3</td>\n",
       "      <td>Booked this hotel for the 3rd time in 4 years...</td>\n",
       "    </tr>\n",
       "    <tr>\n",
       "      <th>3</th>\n",
       "      <td>4</td>\n",
       "      <td>Came here for short break. The stay was quite...</td>\n",
       "    </tr>\n",
       "    <tr>\n",
       "      <th>4</th>\n",
       "      <td>5</td>\n",
       "      <td>Check in process was quick and smooth  with f...</td>\n",
       "    </tr>\n",
       "  </tbody>\n",
       "</table>\n",
       "</div>"
      ],
      "text/plain": [
       "   slno                                               text\n",
       "0     1   a fun adventure. Perfect facilities available...\n",
       "1     2   As an extended family  we went for a two nigh...\n",
       "2     3   Booked this hotel for the 3rd time in 4 years...\n",
       "3     4   Came here for short break. The stay was quite...\n",
       "4     5   Check in process was quick and smooth  with f..."
      ]
     },
     "execution_count": 316,
     "metadata": {},
     "output_type": "execute_result"
    }
   ],
   "source": [
    "reviews.head()"
   ]
  },
  {
   "cell_type": "code",
   "execution_count": 317,
   "metadata": {},
   "outputs": [
    {
     "data": {
      "text/html": [
       "<div>\n",
       "<style scoped>\n",
       "    .dataframe tbody tr th:only-of-type {\n",
       "        vertical-align: middle;\n",
       "    }\n",
       "\n",
       "    .dataframe tbody tr th {\n",
       "        vertical-align: top;\n",
       "    }\n",
       "\n",
       "    .dataframe thead th {\n",
       "        text-align: right;\n",
       "    }\n",
       "</style>\n",
       "<table border=\"1\" class=\"dataframe\">\n",
       "  <thead>\n",
       "    <tr style=\"text-align: right;\">\n",
       "      <th></th>\n",
       "      <th>Topic</th>\n",
       "      <th>Subtopic</th>\n",
       "      <th>PrimaryKeywords</th>\n",
       "      <th>AdditionalKeywords</th>\n",
       "      <th>ExcludeKeywords</th>\n",
       "    </tr>\n",
       "  </thead>\n",
       "  <tbody>\n",
       "    <tr>\n",
       "      <th>0</th>\n",
       "      <td>Room</td>\n",
       "      <td>Room Cleanliness</td>\n",
       "      <td>hotel*, room*</td>\n",
       "      <td>clean*, neat*, dirt*, maintain*, filth*, decen*</td>\n",
       "      <td>staff*, worker*, lady</td>\n",
       "    </tr>\n",
       "    <tr>\n",
       "      <th>1</th>\n",
       "      <td>Room</td>\n",
       "      <td>Room Ambience</td>\n",
       "      <td>hotel*, room*</td>\n",
       "      <td>ambiance, ambience, amenities, view</td>\n",
       "      <td>nan</td>\n",
       "    </tr>\n",
       "    <tr>\n",
       "      <th>2</th>\n",
       "      <td>Staff</td>\n",
       "      <td>Staff Courtesy</td>\n",
       "      <td>staff*, worker*, lady, personne*</td>\n",
       "      <td>friend*, help*, courteo*, polite*, impolite*, ...</td>\n",
       "      <td>nan</td>\n",
       "    </tr>\n",
       "    <tr>\n",
       "      <th>3</th>\n",
       "      <td>Room</td>\n",
       "      <td>Wifi</td>\n",
       "      <td>Wifi</td>\n",
       "      <td>nan</td>\n",
       "      <td>nan</td>\n",
       "    </tr>\n",
       "    <tr>\n",
       "      <th>4</th>\n",
       "      <td>Room</td>\n",
       "      <td>Air Conditioning</td>\n",
       "      <td>ac, \"air condition\", aircon</td>\n",
       "      <td>nan</td>\n",
       "      <td>nan</td>\n",
       "    </tr>\n",
       "    <tr>\n",
       "      <th>5</th>\n",
       "      <td>Room</td>\n",
       "      <td>Room size</td>\n",
       "      <td>hotel*, room*</td>\n",
       "      <td>space*, spacios*, large*, small*</td>\n",
       "      <td>nan</td>\n",
       "    </tr>\n",
       "    <tr>\n",
       "      <th>6</th>\n",
       "      <td>Room</td>\n",
       "      <td>Bed Size</td>\n",
       "      <td>bed</td>\n",
       "      <td>space*, spacios*, large, \"king-size\"</td>\n",
       "      <td>nan</td>\n",
       "    </tr>\n",
       "    <tr>\n",
       "      <th>7</th>\n",
       "      <td>Booking</td>\n",
       "      <td>Checkin Process</td>\n",
       "      <td>\"check in\", \"check-in\", \"auto check\"</td>\n",
       "      <td>nan</td>\n",
       "      <td>nan</td>\n",
       "    </tr>\n",
       "    <tr>\n",
       "      <th>8</th>\n",
       "      <td>Hotel</td>\n",
       "      <td>Room Television</td>\n",
       "      <td>tv, television</td>\n",
       "      <td>channel*, chanel*</td>\n",
       "      <td>nan</td>\n",
       "    </tr>\n",
       "    <tr>\n",
       "      <th>9</th>\n",
       "      <td>Hotel</td>\n",
       "      <td>Hotel Lobby</td>\n",
       "      <td>lobby</td>\n",
       "      <td>nan</td>\n",
       "      <td>nan</td>\n",
       "    </tr>\n",
       "    <tr>\n",
       "      <th>10</th>\n",
       "      <td>Room</td>\n",
       "      <td>Room Price</td>\n",
       "      <td>hotel*, room*</td>\n",
       "      <td>price, overpric*, \"value for money\", expensi*,...</td>\n",
       "      <td>nan</td>\n",
       "    </tr>\n",
       "    <tr>\n",
       "      <th>11</th>\n",
       "      <td>Hotel</td>\n",
       "      <td>First time experience</td>\n",
       "      <td>\"first time\", \"second time\", \"third time\"</td>\n",
       "      <td>visit*, stay*</td>\n",
       "      <td>nan</td>\n",
       "    </tr>\n",
       "  </tbody>\n",
       "</table>\n",
       "</div>"
      ],
      "text/plain": [
       "      Topic               Subtopic                            PrimaryKeywords  \\\n",
       "0      Room       Room Cleanliness                              hotel*, room*   \n",
       "1      Room          Room Ambience                              hotel*, room*   \n",
       "2     Staff         Staff Courtesy           staff*, worker*, lady, personne*   \n",
       "3      Room                   Wifi                                       Wifi   \n",
       "4      Room       Air Conditioning                ac, \"air condition\", aircon   \n",
       "5      Room              Room size                              hotel*, room*   \n",
       "6      Room               Bed Size                                        bed   \n",
       "7   Booking        Checkin Process       \"check in\", \"check-in\", \"auto check\"   \n",
       "8     Hotel        Room Television                             tv, television   \n",
       "9     Hotel            Hotel Lobby                                      lobby   \n",
       "10     Room             Room Price                              hotel*, room*   \n",
       "11    Hotel  First time experience  \"first time\", \"second time\", \"third time\"   \n",
       "\n",
       "                                   AdditionalKeywords        ExcludeKeywords  \n",
       "0     clean*, neat*, dirt*, maintain*, filth*, decen*  staff*, worker*, lady  \n",
       "1                 ambiance, ambience, amenities, view                    nan  \n",
       "2   friend*, help*, courteo*, polite*, impolite*, ...                    nan  \n",
       "3                                                 nan                    nan  \n",
       "4                                                 nan                    nan  \n",
       "5                    space*, spacios*, large*, small*                    nan  \n",
       "6                space*, spacios*, large, \"king-size\"                    nan  \n",
       "7                                                 nan                    nan  \n",
       "8                                   channel*, chanel*                    nan  \n",
       "9                                                 nan                    nan  \n",
       "10  price, overpric*, \"value for money\", expensi*,...                    nan  \n",
       "11                                      visit*, stay*                    nan  "
      ]
     },
     "execution_count": 317,
     "metadata": {},
     "output_type": "execute_result"
    }
   ],
   "source": [
    "reviews_tx['Topic'] = reviews_tx['Topic'].astype(str)\n",
    "reviews_tx['Subtopic'] = reviews_tx['Subtopic'].astype(str)\n",
    "reviews_tx['AdditionalKeywords'] = reviews_tx['AdditionalKeywords'].astype(str)\n",
    "reviews_tx['ExcludeKeywords'] = reviews_tx['ExcludeKeywords'].astype(str)\n",
    "reviews_tx"
   ]
  },
  {
   "cell_type": "markdown",
   "metadata": {},
   "source": [
    "Let's see the most frequent words being used in the reviews using wordcloud"
   ]
  },
  {
   "cell_type": "code",
   "execution_count": 318,
   "metadata": {},
   "outputs": [
    {
     "data": {
      "image/png": "[encoded data removed]",
      "text/plain": [
       "<PIL.Image.Image image mode=RGB size=400x200 at 0x24EF44D4E10>"
      ]
     },
     "execution_count": 318,
     "metadata": {},
     "output_type": "execute_result"
    }
   ],
   "source": [
    "# Import the wordcloud library\n",
    "from wordcloud import WordCloud\n",
    "# Join the different processed titles together.\n",
    "long_string = ','.join(list(reviews['text'].values))\n",
    "# Create a WordCloud object\n",
    "wordcloud = WordCloud(background_color=\"white\", max_words=5000, contour_width=3, contour_color='steelblue')\n",
    "# Generate a word cloud\n",
    "wordcloud.generate(long_string)\n",
    "# Visualize the word cloud\n",
    "wordcloud.to_image()"
   ]
  },
  {
   "cell_type": "markdown",
   "metadata": {},
   "source": [
    "Hotel and room are the obvious words that will be used in the reviews so we do not pay attention to that. Notice that words \n",
    "like **clean, good, nice, spacious** and **helpful** are also being frequently used in the reviews  "
   ]
  },
  {
   "cell_type": "code",
   "execution_count": 319,
   "metadata": {},
   "outputs": [
    {
     "data": {
      "image/png": "[encoded data removed]",
      "text/plain": [
       "<Figure size 1080x667.491 with 1 Axes>"
      ]
     },
     "metadata": {
      "needs_background": "light"
     },
     "output_type": "display_data"
    }
   ],
   "source": [
    " #Load the library with the CountVectorizer method\n",
    "from sklearn.feature_extraction.text import CountVectorizer\n",
    "import numpy as np\n",
    "import matplotlib.pyplot as plt\n",
    "import seaborn as sns\n",
    "sns.set_style('whitegrid')\n",
    "%matplotlib inline\n",
    "\n",
    "# Helper function\n",
    "def plot_10_most_common_words(count_data, count_vectorizer):\n",
    "    words = count_vectorizer.get_feature_names()\n",
    "    total_counts = np.zeros(len(words))\n",
    "    for t in count_data:\n",
    "        total_counts+=t.toarray()[0]\n",
    "    count_dict = (zip(words, total_counts))\n",
    "    count_dict = sorted(count_dict, key=lambda x:x[1], reverse=True)[0:10]\n",
    "    words = [w[0] for w in count_dict]\n",
    "    counts = [w[1] for w in count_dict]\n",
    "    x_pos = np.arange(len(words)) \n",
    "    \n",
    "    plt.figure(2, figsize=(15, 15/1.6180))\n",
    "    plt.subplot(title='10 most common words')\n",
    "    sns.set_context(\"notebook\", font_scale=1.25, rc={\"lines.linewidth\": 2.5})\n",
    "    sns.barplot(x_pos, counts, palette='husl')\n",
    "    plt.xticks(x_pos, words) \n",
    "    plt.xlabel('words')\n",
    "    plt.ylabel('counts')\n",
    "    plt.show()\n",
    "# Initialise the count vectorizer with the English stop words\n",
    "cv = CountVectorizer(stop_words='english')\n",
    "# Fit and transform the processed titles\n",
    "dtm = cv.fit_transform(reviews['text'])\n",
    "# Visualise the 10 most common words\n",
    "plot_10_most_common_words(dtm, cv)"
   ]
  },
  {
   "cell_type": "markdown",
   "metadata": {},
   "source": [
    "### **Step 3 : Map Customer review to topics**\n"
   ]
  },
  {
   "cell_type": "markdown",
   "metadata": {},
   "source": [
    "Let's check a review to understand what the customers are writing about"
   ]
  },
  {
   "cell_type": "code",
   "execution_count": 320,
   "metadata": {},
   "outputs": [
    {
     "data": {
      "text/plain": [
       "' Check in process was quick and smooth  with friendly and welcoming Front Office personnel. We booked 2 rooms  and they were all good and clean. Excellent view from the hotel room where you will see the Awana Skyway cable cars in operation  and get excited        '"
      ]
     },
     "execution_count": 320,
     "metadata": {},
     "output_type": "execute_result"
    }
   ],
   "source": [
    "reviews['text'][4]"
   ]
  },
  {
   "cell_type": "markdown",
   "metadata": {},
   "source": [
    "We see that the above review talks about staff, rooms, hotel view and checkin process. We will split each review into individual comments about different topics and map them to corresponding topics and subtopics from the taxonomy file"
   ]
  },
  {
   "cell_type": "code",
   "execution_count": 321,
   "metadata": {},
   "outputs": [],
   "source": [
    "reviews_split = pd.DataFrame(columns=['slno','text'])\n",
    "for d in range(len(reviews)):    \n",
    "    doc = (reviews.iloc[d,1].split('.'))\n",
    "    for s in ((doc)):        \n",
    "        temp = {'slno': [reviews['slno'][d]], 'text': [s]}\n",
    "        reviews_split =  pd.concat([reviews_split,pd.DataFrame(temp)])\n",
    "        temp = \"\""
   ]
  },
  {
   "cell_type": "code",
   "execution_count": 322,
   "metadata": {},
   "outputs": [
    {
     "data": {
      "text/html": [
       "<div>\n",
       "<style scoped>\n",
       "    .dataframe tbody tr th:only-of-type {\n",
       "        vertical-align: middle;\n",
       "    }\n",
       "\n",
       "    .dataframe tbody tr th {\n",
       "        vertical-align: top;\n",
       "    }\n",
       "\n",
       "    .dataframe thead th {\n",
       "        text-align: right;\n",
       "    }\n",
       "</style>\n",
       "<table border=\"1\" class=\"dataframe\">\n",
       "  <thead>\n",
       "    <tr style=\"text-align: right;\">\n",
       "      <th></th>\n",
       "      <th>slno</th>\n",
       "      <th>text</th>\n",
       "    </tr>\n",
       "  </thead>\n",
       "  <tbody>\n",
       "    <tr>\n",
       "      <th>0</th>\n",
       "      <td>1</td>\n",
       "      <td>a fun adventure</td>\n",
       "    </tr>\n",
       "    <tr>\n",
       "      <th>0</th>\n",
       "      <td>1</td>\n",
       "      <td>Perfect facilities available while there</td>\n",
       "    </tr>\n",
       "    <tr>\n",
       "      <th>0</th>\n",
       "      <td>1</td>\n",
       "      <td>I also enjoy stunning views</td>\n",
       "    </tr>\n",
       "    <tr>\n",
       "      <th>0</th>\n",
       "      <td>1</td>\n",
       "      <td>Beautiful views to shoulder the sunset</td>\n",
       "    </tr>\n",
       "    <tr>\n",
       "      <th>0</th>\n",
       "      <td>1</td>\n",
       "      <td>Will recommended to friend to go their when t...</td>\n",
       "    </tr>\n",
       "    <tr>\n",
       "      <th>0</th>\n",
       "      <td>2</td>\n",
       "      <td>As an extended family  we went for a two nigh...</td>\n",
       "    </tr>\n",
       "    <tr>\n",
       "      <th>0</th>\n",
       "      <td>2</td>\n",
       "      <td>It was very spacious and clean</td>\n",
       "    </tr>\n",
       "    <tr>\n",
       "      <th>0</th>\n",
       "      <td>2</td>\n",
       "      <td></td>\n",
       "    </tr>\n",
       "    <tr>\n",
       "      <th>0</th>\n",
       "      <td>3</td>\n",
       "      <td>Booked this hotel for the 3rd time in 4 years...</td>\n",
       "    </tr>\n",
       "    <tr>\n",
       "      <th>0</th>\n",
       "      <td>3</td>\n",
       "      <td>The rooms are spacious and clean  and facilit...</td>\n",
       "    </tr>\n",
       "  </tbody>\n",
       "</table>\n",
       "</div>"
      ],
      "text/plain": [
       "  slno                                               text\n",
       "0    1                                    a fun adventure\n",
       "0    1           Perfect facilities available while there\n",
       "0    1                        I also enjoy stunning views\n",
       "0    1             Beautiful views to shoulder the sunset\n",
       "0    1   Will recommended to friend to go their when t...\n",
       "0    2   As an extended family  we went for a two nigh...\n",
       "0    2                     It was very spacious and clean\n",
       "0    2                                                   \n",
       "0    3   Booked this hotel for the 3rd time in 4 years...\n",
       "0    3   The rooms are spacious and clean  and facilit..."
      ]
     },
     "execution_count": 322,
     "metadata": {},
     "output_type": "execute_result"
    }
   ],
   "source": [
    "reviews_split.head(10)"
   ]
  },
  {
   "cell_type": "code",
   "execution_count": 323,
   "metadata": {},
   "outputs": [],
   "source": [
    "reviews_split['text'].replace('',np.nan,inplace=True);      \n",
    "reviews_split.dropna(subset=['text'], inplace=True);  "
   ]
  },
  {
   "cell_type": "code",
   "execution_count": 324,
   "metadata": {},
   "outputs": [
    {
     "data": {
      "text/html": [
       "<div>\n",
       "<style scoped>\n",
       "    .dataframe tbody tr th:only-of-type {\n",
       "        vertical-align: middle;\n",
       "    }\n",
       "\n",
       "    .dataframe tbody tr th {\n",
       "        vertical-align: top;\n",
       "    }\n",
       "\n",
       "    .dataframe thead th {\n",
       "        text-align: right;\n",
       "    }\n",
       "</style>\n",
       "<table border=\"1\" class=\"dataframe\">\n",
       "  <thead>\n",
       "    <tr style=\"text-align: right;\">\n",
       "      <th></th>\n",
       "      <th>slno</th>\n",
       "      <th>text</th>\n",
       "    </tr>\n",
       "  </thead>\n",
       "  <tbody>\n",
       "    <tr>\n",
       "      <th>0</th>\n",
       "      <td>1</td>\n",
       "      <td>a fun adventure</td>\n",
       "    </tr>\n",
       "    <tr>\n",
       "      <th>0</th>\n",
       "      <td>1</td>\n",
       "      <td>Perfect facilities available while there</td>\n",
       "    </tr>\n",
       "    <tr>\n",
       "      <th>0</th>\n",
       "      <td>1</td>\n",
       "      <td>I also enjoy stunning views</td>\n",
       "    </tr>\n",
       "    <tr>\n",
       "      <th>0</th>\n",
       "      <td>1</td>\n",
       "      <td>Beautiful views to shoulder the sunset</td>\n",
       "    </tr>\n",
       "    <tr>\n",
       "      <th>0</th>\n",
       "      <td>1</td>\n",
       "      <td>Will recommended to friend to go their when t...</td>\n",
       "    </tr>\n",
       "    <tr>\n",
       "      <th>0</th>\n",
       "      <td>2</td>\n",
       "      <td>As an extended family  we went for a two nigh...</td>\n",
       "    </tr>\n",
       "    <tr>\n",
       "      <th>0</th>\n",
       "      <td>2</td>\n",
       "      <td>It was very spacious and clean</td>\n",
       "    </tr>\n",
       "    <tr>\n",
       "      <th>0</th>\n",
       "      <td>3</td>\n",
       "      <td>Booked this hotel for the 3rd time in 4 years...</td>\n",
       "    </tr>\n",
       "    <tr>\n",
       "      <th>0</th>\n",
       "      <td>3</td>\n",
       "      <td>The rooms are spacious and clean  and facilit...</td>\n",
       "    </tr>\n",
       "    <tr>\n",
       "      <th>0</th>\n",
       "      <td>3</td>\n",
       "      <td>It is centrally located in tourist hotel so i...</td>\n",
       "    </tr>\n",
       "  </tbody>\n",
       "</table>\n",
       "</div>"
      ],
      "text/plain": [
       "  slno                                               text\n",
       "0    1                                    a fun adventure\n",
       "0    1           Perfect facilities available while there\n",
       "0    1                        I also enjoy stunning views\n",
       "0    1             Beautiful views to shoulder the sunset\n",
       "0    1   Will recommended to friend to go their when t...\n",
       "0    2   As an extended family  we went for a two nigh...\n",
       "0    2                     It was very spacious and clean\n",
       "0    3   Booked this hotel for the 3rd time in 4 years...\n",
       "0    3   The rooms are spacious and clean  and facilit...\n",
       "0    3   It is centrally located in tourist hotel so i..."
      ]
     },
     "execution_count": 324,
     "metadata": {},
     "output_type": "execute_result"
    }
   ],
   "source": [
    "reviews_split.head(10)"
   ]
  },
  {
   "cell_type": "code",
   "execution_count": 325,
   "metadata": {},
   "outputs": [
    {
     "data": {
      "text/html": [
       "<div>\n",
       "<style scoped>\n",
       "    .dataframe tbody tr th:only-of-type {\n",
       "        vertical-align: middle;\n",
       "    }\n",
       "\n",
       "    .dataframe tbody tr th {\n",
       "        vertical-align: top;\n",
       "    }\n",
       "\n",
       "    .dataframe thead th {\n",
       "        text-align: right;\n",
       "    }\n",
       "</style>\n",
       "<table border=\"1\" class=\"dataframe\">\n",
       "  <thead>\n",
       "    <tr style=\"text-align: right;\">\n",
       "      <th></th>\n",
       "      <th>slno</th>\n",
       "      <th>text</th>\n",
       "      <th>text_processed</th>\n",
       "    </tr>\n",
       "  </thead>\n",
       "  <tbody>\n",
       "    <tr>\n",
       "      <th>0</th>\n",
       "      <td>1</td>\n",
       "      <td>a fun adventure</td>\n",
       "      <td>a fun adventure</td>\n",
       "    </tr>\n",
       "    <tr>\n",
       "      <th>0</th>\n",
       "      <td>1</td>\n",
       "      <td>Perfect facilities available while there</td>\n",
       "      <td>perfect facilities available while there</td>\n",
       "    </tr>\n",
       "    <tr>\n",
       "      <th>0</th>\n",
       "      <td>1</td>\n",
       "      <td>I also enjoy stunning views</td>\n",
       "      <td>i also enjoy stunning views</td>\n",
       "    </tr>\n",
       "    <tr>\n",
       "      <th>0</th>\n",
       "      <td>1</td>\n",
       "      <td>Beautiful views to shoulder the sunset</td>\n",
       "      <td>beautiful views to shoulder the sunset</td>\n",
       "    </tr>\n",
       "    <tr>\n",
       "      <th>0</th>\n",
       "      <td>1</td>\n",
       "      <td>Will recommended to friend to go their when t...</td>\n",
       "      <td>will recommended to friend to go their when t...</td>\n",
       "    </tr>\n",
       "  </tbody>\n",
       "</table>\n",
       "</div>"
      ],
      "text/plain": [
       "  slno                                               text  \\\n",
       "0    1                                    a fun adventure   \n",
       "0    1           Perfect facilities available while there   \n",
       "0    1                        I also enjoy stunning views   \n",
       "0    1             Beautiful views to shoulder the sunset   \n",
       "0    1   Will recommended to friend to go their when t...   \n",
       "\n",
       "                                      text_processed  \n",
       "0                                    a fun adventure  \n",
       "0           perfect facilities available while there  \n",
       "0                        i also enjoy stunning views  \n",
       "0             beautiful views to shoulder the sunset  \n",
       "0   will recommended to friend to go their when t...  "
      ]
     },
     "execution_count": 325,
     "metadata": {},
     "output_type": "execute_result"
    }
   ],
   "source": [
    "# Remove punctuation\n",
    "reviews_split['text_processed'] = reviews_split['text'].apply(lambda s: s.translate(str.maketrans('', '', string.punctuation)))\n",
    "# Convert the titles to lowercase\n",
    "reviews_split['text_processed'] = reviews_split['text_processed'].map(lambda x: x.lower())\n",
    "# Print out the first rows of papers\n",
    "reviews_split.head()"
   ]
  },
  {
   "cell_type": "code",
   "execution_count": 326,
   "metadata": {},
   "outputs": [],
   "source": [
    "# function to identify taxonomy words ending with (*) and treats it as a wild character.\n",
    "def asterix_handler(asterixw, lookupw):\n",
    "    mtch = \"F\"\n",
    "    for word in asterixw:\n",
    "        for lword in lookupw:\n",
    "            if(word[-1:]==\"*\"):\n",
    "                if(bool(re.search(\"^\"+ word[:-1],lword))==True):\n",
    "                    mtch = \"T\"\n",
    "                    break\n",
    "    return(mtch)"
   ]
  },
  {
   "cell_type": "code",
   "execution_count": null,
   "metadata": {},
   "outputs": [],
   "source": []
  },
  {
   "cell_type": "code",
   "execution_count": 327,
   "metadata": {},
   "outputs": [],
   "source": [
    "# function to remove double quote from taxonomy csv file\n",
    "def remov_quote(withquote):\n",
    "    quote = '\"'\n",
    "    without_quote = \"\"\n",
    "    char = 'nan'\n",
    "    for char in withquote:\n",
    "        if char not in quote:\n",
    "            without_quote = without_quote + char\n",
    "    return(without_quote)   "
   ]
  },
  {
   "cell_type": "code",
   "execution_count": 328,
   "metadata": {},
   "outputs": [],
   "source": [
    "#data = reviews_split\n",
    "cat2list = list(set(reviews_tx['Subtopic']))\n",
    "reviews_split['Category'] = 0\n",
    "mapped_data = pd.DataFrame(columns = ['slno','text','Category']);\n",
    "temp=pd.DataFrame()\n",
    "for i in range(len(reviews_split)):\n",
    "    comment = reviews_split.iloc[i,2]\n",
    "    data_words = [str(x.strip()).lower() for x in str(comment).split()]\n",
    "    for j in range(len(reviews_tx)):\n",
    "        key_flag = False\n",
    "        add_flag = False\n",
    "        excl_flag = False\n",
    "        kw_clean = 'nan'\n",
    "        aw_clean = 'nan'\n",
    "        excl_clean = 'nan'\n",
    "        if (str(reviews_tx['PrimaryKeywords'][j])!='nan'):\n",
    "            kw_clean = (remov_quote(reviews_tx['PrimaryKeywords'][j]))\n",
    "        if (str(reviews_tx['AdditionalKeywords'][j])!='nan'):\n",
    "            aw_clean = (remov_quote(reviews_tx['AdditionalKeywords'][j]))\n",
    "        if (str(reviews_tx['ExcludeKeywords'][j])!='nan'):\n",
    "            excl_clean = remov_quote(reviews_tx['ExcludeKeywords'][j])\n",
    "\n",
    "        key_words = 'nan'\n",
    "        key_words2 = 'nan'\n",
    "        add_words = 'nan'\n",
    "        add_words2 = 'nan'\n",
    "        excl_words = 'nan'\n",
    "        excl_words2 = 'nan'\n",
    "           \n",
    "        if(str(kw_clean) == 'nan'):\n",
    "            key_flag = False        \n",
    "        else:\n",
    "            key_words = set([str(x.strip()).lower() for x in kw_clean.split(',')])\n",
    "            if set(data_words) & key_words:\n",
    "                key_flag = True\n",
    "            else:\n",
    "                if(asterix_handler(key_words, data_words)=='T'):\n",
    "                    key_flag = True\n",
    "                    \n",
    "        if(str(aw_clean)=='nan'):\n",
    "            add_flag = False\n",
    "        else:\n",
    "            add_words = set([str(x.strip()).lower() for x in aw_clean.split(',')])\n",
    "            if set(data_words) & add_words:\n",
    "                add_flag = True\n",
    "            else:\n",
    "                if(asterix_handler(add_words,data_words)=='T'):\n",
    "                    add_flag = True\n",
    "                    \n",
    "#         if(str(excl_clean) == 'nan'):\n",
    "#             excl_flag = False\n",
    "#         else:\n",
    "#             excl_words = set([str(x.strip()).lower() for x in excl_clean.split(',')])\n",
    "#             if set(data_words) & excl_words:\n",
    "#                 excl_flag = True\n",
    "#             else:\n",
    "#                 if(asterix_handler(excl_words, data_words)=='T'):\n",
    "#                     excl_flag = True\n",
    "        if key_flag == True or add_flag == True:\n",
    "            temp = {'slno': [reviews_split.iloc[i,0]], 'text': [reviews_split.iloc[i,2]], 'Category': [reviews_tx['Subtopic'][j]]}\n",
    "            mapped_data = pd.concat([mapped_data,pd.DataFrame(temp)])\n",
    "            break\n",
    "#output mapped data\n",
    "mapped_data.to_csv(\"../output/mapped_data.csv\",index = False)"
   ]
  },
  {
   "cell_type": "markdown",
   "metadata": {},
   "source": [
    "### **Step 4 : Map customer reviews to sentiment**\n"
   ]
  },
  {
   "cell_type": "code",
   "execution_count": 329,
   "metadata": {},
   "outputs": [],
   "source": [
    "from nltk.sentiment.vader import SentimentIntensityAnalyzer"
   ]
  },
  {
   "cell_type": "code",
   "execution_count": 330,
   "metadata": {},
   "outputs": [],
   "source": [
    "def findpolar(comment):\n",
    "    sia = SentimentIntensityAnalyzer()\n",
    "    polarity = sia.polarity_scores(comment)[\"compound\"];\n",
    "    if polarity >= 0.1:\n",
    "        sentiment = 'positive'\n",
    "    if polarity <= -0.1:\n",
    "        sentiment = 'negative' \n",
    "    if polarity>= -0.1 and polarity<= 0.1:\n",
    "        sentiment = 'neutral'\n",
    "    return sentiment"
   ]
  },
  {
   "cell_type": "code",
   "execution_count": 331,
   "metadata": {},
   "outputs": [],
   "source": [
    "mapped_data['sentiment'] = mapped_data['text'].apply(findpolar)"
   ]
  },
  {
   "cell_type": "code",
   "execution_count": 332,
   "metadata": {},
   "outputs": [],
   "source": [
    "mapped_data.to_csv(\"../output/mapped_data.csv\",index = False)"
   ]
  }
 ],
 "metadata": {
  "kernelspec": {
   "display_name": "Python 3",
   "language": "python",
   "name": "python3"
  },
  "language_info": {
   "codemirror_mode": {
    "name": "ipython",
    "version": 3
   },
   "file_extension": ".py",
   "mimetype": "text/x-python",
   "name": "python",
   "nbconvert_exporter": "python",
   "pygments_lexer": "ipython3",
   "version": "3.7.3"
  }
 },
 "nbformat": 4,
 "nbformat_minor": 2
}
